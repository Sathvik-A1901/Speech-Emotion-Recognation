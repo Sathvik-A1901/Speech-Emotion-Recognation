{
 "cells": [
  {
   "cell_type": "code",
   "execution_count": 1,
   "id": "12bbc4c4",
   "metadata": {},
   "outputs": [
    {
     "name": "stdout",
     "output_type": "stream",
     "text": [
      "Requirement already satisfied: pyaudio in c:\\users\\sagar\\anaconda3\\lib\\site-packages (0.2.12)\n",
      "Requirement already satisfied: wave in c:\\users\\sagar\\anaconda3\\lib\\site-packages (0.0.2)\n"
     ]
    }
   ],
   "source": [
    "!pip install pyaudio \n",
    "!pip install wave"
   ]
  },
  {
   "cell_type": "code",
   "execution_count": 1,
   "id": "405ae3d0",
   "metadata": {},
   "outputs": [],
   "source": [
    "import pyaudio\n",
    "import wave"
   ]
  },
  {
   "cell_type": "code",
   "execution_count": 3,
   "id": "f55dc09e",
   "metadata": {},
   "outputs": [
    {
     "name": "stdout",
     "output_type": "stream",
     "text": [
      "recording\n",
      "done recording\n"
     ]
    }
   ],
   "source": [
    "CHUNK=1024\n",
    "FORMAT = pyaudio.paInt16\n",
    "CHANNELS=2\n",
    "RATE=44100\n",
    "RECORD_SECONDS=4\n",
    "WAVE_OUTPUT_FILENAME=\"output18.wav\"\n",
    "\n",
    "p=pyaudio.PyAudio()\n",
    "\n",
    "stream=p.open(format=FORMAT,\n",
    "             channels=CHANNELS,\n",
    "             rate=RATE,\n",
    "             input=True,\n",
    "             frames_per_buffer=CHUNK)\n",
    "\n",
    "print(\"recording\")\n",
    "\n",
    "frames=[]\n",
    "\n",
    "for i in range(0,int(RATE/CHUNK*RECORD_SECONDS)):\n",
    "    data=stream.read(CHUNK)\n",
    "    frames.append(data)\n",
    "\n",
    "print(\"done recording\")\n",
    "\n",
    "stream.stop_stream()\n",
    "stream.close()\n",
    "p.terminate()\n",
    "\n",
    "wf=wave.open(WAVE_OUTPUT_FILENAME,'wb')\n",
    "wf.setnchannels(CHANNELS)\n",
    "wf.setsampwidth(p.get_sample_size(FORMAT))\n",
    "wf.setframerate(RATE)\n",
    "wf.writeframes(b''.join(frames))\n",
    "wf.close()"
   ]
  },
  {
   "cell_type": "code",
   "execution_count": null,
   "id": "a9c5f11c",
   "metadata": {},
   "outputs": [],
   "source": []
  }
 ],
 "metadata": {
  "kernelspec": {
   "display_name": "Python 3",
   "language": "python",
   "name": "python3"
  },
  "language_info": {
   "codemirror_mode": {
    "name": "ipython",
    "version": 3
   },
   "file_extension": ".py",
   "mimetype": "text/x-python",
   "name": "python",
   "nbconvert_exporter": "python",
   "pygments_lexer": "ipython3",
   "version": "3.8.8"
  }
 },
 "nbformat": 4,
 "nbformat_minor": 5
}
